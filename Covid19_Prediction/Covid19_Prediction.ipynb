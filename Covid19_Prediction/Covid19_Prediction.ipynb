{
 "cells": [
  {
   "cell_type": "code",
   "execution_count": 1,
   "metadata": {
    "colab": {},
    "colab_type": "code",
    "id": "SNIxdomBE9io"
   },
   "outputs": [],
   "source": [
    "import pandas as pd\n",
    "import numpy as np\n",
    "import matplotlib.pyplot as plt\n",
    "from sklearn.linear_model import LinearRegression\n",
    "from scipy.stats import pearsonr\n",
    "from scipy.stats import spearmanr\n",
    "from sklearn.model_selection import train_test_split\n",
    "from sklearn.metrics import mean_squared_error, mean_absolute_error"
   ]
  },
  {
   "cell_type": "code",
   "execution_count": 2,
   "metadata": {
    "colab": {},
    "colab_type": "code",
    "id": "fxjh_QqRFQuk"
   },
   "outputs": [],
   "source": [
    "train = pd.read_excel(\"https://docs.google.com/spreadsheets/d/15YZ4OmO6HgJK5ZTw_h3il8jRTyWAGDSP/export?format=xlsx&gid=1040194867\")"
   ]
  },
  {
   "cell_type": "code",
   "execution_count": 3,
   "metadata": {
    "colab": {
     "base_uri": "https://localhost:8080/",
     "height": 299
    },
    "colab_type": "code",
    "id": "pJurkZ3jFnvE",
    "outputId": "fbf16519-c87b-470d-8571-9497ed8815be"
   },
   "outputs": [
    {
     "data": {
      "text/html": [
       "<div>\n",
       "<style scoped>\n",
       "    .dataframe tbody tr th:only-of-type {\n",
       "        vertical-align: middle;\n",
       "    }\n",
       "\n",
       "    .dataframe tbody tr th {\n",
       "        vertical-align: top;\n",
       "    }\n",
       "\n",
       "    .dataframe thead th {\n",
       "        text-align: right;\n",
       "    }\n",
       "</style>\n",
       "<table border=\"1\" class=\"dataframe\">\n",
       "  <thead>\n",
       "    <tr style=\"text-align: right;\">\n",
       "      <th></th>\n",
       "      <th>people_ID</th>\n",
       "      <th>Region</th>\n",
       "      <th>Gender</th>\n",
       "      <th>Designation</th>\n",
       "      <th>Name</th>\n",
       "      <th>Married</th>\n",
       "      <th>Children</th>\n",
       "      <th>Occupation</th>\n",
       "      <th>Mode_transport</th>\n",
       "      <th>cases/1M</th>\n",
       "      <th>...</th>\n",
       "      <th>HBB</th>\n",
       "      <th>d-dimer</th>\n",
       "      <th>Heart rate</th>\n",
       "      <th>HDL cholesterol</th>\n",
       "      <th>Charlson Index</th>\n",
       "      <th>Blood Glucose</th>\n",
       "      <th>Insurance</th>\n",
       "      <th>salary</th>\n",
       "      <th>FT/month</th>\n",
       "      <th>Infect_Prob</th>\n",
       "    </tr>\n",
       "  </thead>\n",
       "  <tbody>\n",
       "    <tr>\n",
       "      <th>0</th>\n",
       "      <td>1</td>\n",
       "      <td>Bhubaneshwar</td>\n",
       "      <td>Female</td>\n",
       "      <td>Mrs</td>\n",
       "      <td>mansi</td>\n",
       "      <td>YES</td>\n",
       "      <td>1.0</td>\n",
       "      <td>Farmer</td>\n",
       "      <td>Public</td>\n",
       "      <td>2</td>\n",
       "      <td>...</td>\n",
       "      <td>93.0</td>\n",
       "      <td>233.0</td>\n",
       "      <td>82.0</td>\n",
       "      <td>58.0</td>\n",
       "      <td>27</td>\n",
       "      <td>7</td>\n",
       "      <td>3600000.0</td>\n",
       "      <td>1300000</td>\n",
       "      <td>2.0</td>\n",
       "      <td>49.135010</td>\n",
       "    </tr>\n",
       "    <tr>\n",
       "      <th>1</th>\n",
       "      <td>2</td>\n",
       "      <td>Bhubaneshwar</td>\n",
       "      <td>Female</td>\n",
       "      <td>Mrs</td>\n",
       "      <td>riya masi</td>\n",
       "      <td>YES</td>\n",
       "      <td>2.0</td>\n",
       "      <td>Farmer</td>\n",
       "      <td>Walk</td>\n",
       "      <td>2</td>\n",
       "      <td>...</td>\n",
       "      <td>56.0</td>\n",
       "      <td>328.0</td>\n",
       "      <td>89.0</td>\n",
       "      <td>68.0</td>\n",
       "      <td>5</td>\n",
       "      <td>6</td>\n",
       "      <td>1600000.0</td>\n",
       "      <td>400000</td>\n",
       "      <td>1.0</td>\n",
       "      <td>51.147880</td>\n",
       "    </tr>\n",
       "    <tr>\n",
       "      <th>2</th>\n",
       "      <td>3</td>\n",
       "      <td>Bhubaneshwar</td>\n",
       "      <td>Female</td>\n",
       "      <td>Mrs</td>\n",
       "      <td>sunita</td>\n",
       "      <td>NO</td>\n",
       "      <td>1.0</td>\n",
       "      <td>Cleaner</td>\n",
       "      <td>Public</td>\n",
       "      <td>2</td>\n",
       "      <td>...</td>\n",
       "      <td>137.0</td>\n",
       "      <td>213.0</td>\n",
       "      <td>77.0</td>\n",
       "      <td>43.0</td>\n",
       "      <td>40</td>\n",
       "      <td>6</td>\n",
       "      <td>3400000.0</td>\n",
       "      <td>900000</td>\n",
       "      <td>1.0</td>\n",
       "      <td>73.224000</td>\n",
       "    </tr>\n",
       "    <tr>\n",
       "      <th>3</th>\n",
       "      <td>4</td>\n",
       "      <td>Bhubaneshwar</td>\n",
       "      <td>Female</td>\n",
       "      <td>Mrs</td>\n",
       "      <td>anjali @ babli</td>\n",
       "      <td>YES</td>\n",
       "      <td>1.0</td>\n",
       "      <td>Driver</td>\n",
       "      <td>Car</td>\n",
       "      <td>2</td>\n",
       "      <td>...</td>\n",
       "      <td>167.0</td>\n",
       "      <td>275.0</td>\n",
       "      <td>64.0</td>\n",
       "      <td>60.0</td>\n",
       "      <td>27</td>\n",
       "      <td>7</td>\n",
       "      <td>700000.0</td>\n",
       "      <td>2300000</td>\n",
       "      <td>1.0</td>\n",
       "      <td>48.779225</td>\n",
       "    </tr>\n",
       "    <tr>\n",
       "      <th>4</th>\n",
       "      <td>5</td>\n",
       "      <td>Bhubaneshwar</td>\n",
       "      <td>Female</td>\n",
       "      <td>Mrs</td>\n",
       "      <td>champa karketta</td>\n",
       "      <td>NO</td>\n",
       "      <td>2.0</td>\n",
       "      <td>Manufacturing</td>\n",
       "      <td>Car</td>\n",
       "      <td>2</td>\n",
       "      <td>...</td>\n",
       "      <td>153.0</td>\n",
       "      <td>331.0</td>\n",
       "      <td>71.0</td>\n",
       "      <td>64.0</td>\n",
       "      <td>32</td>\n",
       "      <td>7</td>\n",
       "      <td>3200000.0</td>\n",
       "      <td>1100000</td>\n",
       "      <td>1.0</td>\n",
       "      <td>87.868800</td>\n",
       "    </tr>\n",
       "  </tbody>\n",
       "</table>\n",
       "<p>5 rows × 28 columns</p>\n",
       "</div>"
      ],
      "text/plain": [
       "   people_ID        Region  Gender Designation             Name Married  \\\n",
       "0          1  Bhubaneshwar  Female         Mrs            mansi     YES   \n",
       "1          2  Bhubaneshwar  Female         Mrs        riya masi     YES   \n",
       "2          3  Bhubaneshwar  Female         Mrs           sunita      NO   \n",
       "3          4  Bhubaneshwar  Female         Mrs   anjali @ babli     YES   \n",
       "4          5  Bhubaneshwar  Female         Mrs  champa karketta      NO   \n",
       "\n",
       "   Children     Occupation Mode_transport  cases/1M  ...    HBB d-dimer  \\\n",
       "0       1.0         Farmer         Public         2  ...   93.0   233.0   \n",
       "1       2.0         Farmer           Walk         2  ...   56.0   328.0   \n",
       "2       1.0        Cleaner         Public         2  ...  137.0   213.0   \n",
       "3       1.0         Driver            Car         2  ...  167.0   275.0   \n",
       "4       2.0  Manufacturing            Car         2  ...  153.0   331.0   \n",
       "\n",
       "   Heart rate  HDL cholesterol Charlson Index Blood Glucose  Insurance  \\\n",
       "0        82.0             58.0             27             7  3600000.0   \n",
       "1        89.0             68.0              5             6  1600000.0   \n",
       "2        77.0             43.0             40             6  3400000.0   \n",
       "3        64.0             60.0             27             7   700000.0   \n",
       "4        71.0             64.0             32             7  3200000.0   \n",
       "\n",
       "    salary  FT/month  Infect_Prob  \n",
       "0  1300000       2.0    49.135010  \n",
       "1   400000       1.0    51.147880  \n",
       "2   900000       1.0    73.224000  \n",
       "3  2300000       1.0    48.779225  \n",
       "4  1100000       1.0    87.868800  \n",
       "\n",
       "[5 rows x 28 columns]"
      ]
     },
     "execution_count": 3,
     "metadata": {},
     "output_type": "execute_result"
    }
   ],
   "source": [
    "train.head()"
   ]
  },
  {
   "cell_type": "code",
   "execution_count": 4,
   "metadata": {
    "colab": {
     "base_uri": "https://localhost:8080/",
     "height": 67
    },
    "colab_type": "code",
    "id": "u74HO8JeFvsB",
    "outputId": "649c4be5-2bbd-45fb-98b3-fe08e099918a"
   },
   "outputs": [
    {
     "data": {
      "text/plain": [
       "Mrs    5423\n",
       "Mr     5291\n",
       "Name: Designation, dtype: int64"
      ]
     },
     "execution_count": 4,
     "metadata": {},
     "output_type": "execute_result"
    }
   ],
   "source": [
    "pd.value_counts(train['Designation'])"
   ]
  },
  {
   "cell_type": "code",
   "execution_count": 5,
   "metadata": {
    "colab": {
     "base_uri": "https://localhost:8080/",
     "height": 676
    },
    "colab_type": "code",
    "id": "VbARIuscumQk",
    "outputId": "20349eea-767e-4293-8d69-9d0ca5bdf79b"
   },
   "outputs": [
    {
     "data": {
      "text/plain": [
       "<matplotlib.axes._subplots.AxesSubplot at 0x13339ee0f88>"
      ]
     },
     "execution_count": 5,
     "metadata": {},
     "output_type": "execute_result"
    },
    {
     "data": {
      "image/png": "[encoded data removed]",
      "text/plain": [
       "<Figure size 720x720 with 1 Axes>"
      ]
     },
     "metadata": {
      "needs_background": "light"
     },
     "output_type": "display_data"
    }
   ],
   "source": [
    "train.boxplot('Infect_Prob', 'comorbidity', figsize=(10,10))"
   ]
  },
  {
   "cell_type": "code",
   "execution_count": 6,
   "metadata": {
    "colab": {
     "base_uri": "https://localhost:8080/",
     "height": 33
    },
    "colab_type": "code",
    "id": "TwAVHA-EHlW7",
    "outputId": "1cb5132d-aedd-4ff2-efe1-94c30b74c7ca"
   },
   "outputs": [
    {
     "data": {
      "text/plain": [
       "(10714, 28)"
      ]
     },
     "execution_count": 6,
     "metadata": {},
     "output_type": "execute_result"
    }
   ],
   "source": [
    "train.shape"
   ]
  },
  {
   "cell_type": "code",
   "execution_count": 7,
   "metadata": {
    "colab": {
     "base_uri": "https://localhost:8080/",
     "height": 33
    },
    "colab_type": "code",
    "id": "RZN_zAscHshZ",
    "outputId": "3f991f22-5eb3-48c8-a2dc-c9781affebd8"
   },
   "outputs": [
    {
     "name": "stdout",
     "output_type": "stream",
     "text": [
      "-0.33125784177888407\n"
     ]
    }
   ],
   "source": [
    "corr, _ = pearsonr(train['Age'], train ['Infect_Prob'])\n",
    "print(corr)"
   ]
  },
  {
   "cell_type": "code",
   "execution_count": 8,
   "metadata": {
    "colab": {},
    "colab_type": "code",
    "id": "gJe_SClAJGgL"
   },
   "outputs": [],
   "source": [
    "# corr,_ = pearsonr(train['Region'], train['Designation'])"
   ]
  },
  {
   "cell_type": "code",
   "execution_count": 9,
   "metadata": {
    "colab": {
     "base_uri": "https://localhost:8080/",
     "height": 50
    },
    "colab_type": "code",
    "id": "ZhPyinXUJ5pm",
    "outputId": "1417e87f-3ee1-4c8d-d472-cece30f47f3b"
   },
   "outputs": [
    {
     "name": "stdout",
     "output_type": "stream",
     "text": [
      "-0.15641595356864382\n",
      "1.1846219933775162e-59\n"
     ]
    }
   ],
   "source": [
    "corr, _ = spearmanr(train['Region'], train ['Infect_Prob'])\n",
    "print(corr)\n",
    "print(_)"
   ]
  },
  {
   "cell_type": "code",
   "execution_count": 10,
   "metadata": {
    "colab": {
     "base_uri": "https://localhost:8080/",
     "height": 50
    },
    "colab_type": "code",
    "id": "RxaxbKc8Kkus",
    "outputId": "cd7df264-ac96-4627-99fa-644a68797c16"
   },
   "outputs": [
    {
     "name": "stdout",
     "output_type": "stream",
     "text": [
      "nan\n",
      "nan\n"
     ]
    }
   ],
   "source": [
    "corr, _ = spearmanr(train['Mode_transport'], train ['Infect_Prob'])\n",
    "print(corr)\n",
    "print(_)"
   ]
  },
  {
   "cell_type": "code",
   "execution_count": 11,
   "metadata": {
    "colab": {
     "base_uri": "https://localhost:8080/",
     "height": 50
    },
    "colab_type": "code",
    "id": "5bhUWyi-Qkgo",
    "outputId": "6b87a757-4f00-4ba8-fdb7-a64f93d2570b"
   },
   "outputs": [
    {
     "name": "stdout",
     "output_type": "stream",
     "text": [
      "0.07936129615689888\n",
      "1.9262835512324688e-16\n"
     ]
    }
   ],
   "source": [
    "corr, _ = pearsonr(train['people_ID'], train ['Infect_Prob'])\n",
    "print(corr)\n",
    "print(_)"
   ]
  },
  {
   "cell_type": "code",
   "execution_count": 12,
   "metadata": {
    "colab": {
     "base_uri": "https://localhost:8080/",
     "height": 281
    },
    "colab_type": "code",
    "id": "51Bw1l37iDL3",
    "outputId": "54071df4-167d-402b-b772-19abfcf40cba"
   },
   "outputs": [
    {
     "data": {
      "text/plain": [
       "<matplotlib.collections.PathCollection at 0x1333903ce08>"
      ]
     },
     "execution_count": 12,
     "metadata": {},
     "output_type": "execute_result"
    },
    {
     "data": {
      "image/png": "[encoded data removed]",
      "text/plain": [
       "<Figure size 432x288 with 1 Axes>"
      ]
     },
     "metadata": {
      "needs_background": "light"
     },
     "output_type": "display_data"
    }
   ],
   "source": [
    "plt.scatter(train['Infect_Prob'], train['people_ID'])"
   ]
  },
  {
   "cell_type": "code",
   "execution_count": 13,
   "metadata": {
    "colab": {
     "base_uri": "https://localhost:8080/",
     "height": 50
    },
    "colab_type": "code",
    "id": "2-DQ9-iViUW2",
    "outputId": "e38ff2a2-a1fd-4ee7-ab88-022674085677"
   },
   "outputs": [
    {
     "name": "stdout",
     "output_type": "stream",
     "text": [
      "nan\n",
      "nan\n"
     ]
    }
   ],
   "source": [
    "corr, _ = spearmanr(train['cardiological pressure'], train ['Infect_Prob'])\n",
    "print(corr)\n",
    "print(_)"
   ]
  },
  {
   "cell_type": "code",
   "execution_count": 14,
   "metadata": {
    "colab": {
     "base_uri": "https://localhost:8080/",
     "height": 50
    },
    "colab_type": "code",
    "id": "ERDaXbQPixoi",
    "outputId": "75bafe68-9ebb-4499-ec38-36e12dd5e773"
   },
   "outputs": [
    {
     "name": "stdout",
     "output_type": "stream",
     "text": [
      "nan\n",
      "nan\n"
     ]
    }
   ],
   "source": [
    "corr, _ = spearmanr(train['Mode_transport'], train ['Infect_Prob'])\n",
    "print(corr)\n",
    "print(_)"
   ]
  },
  {
   "cell_type": "code",
   "execution_count": 15,
   "metadata": {
    "colab": {
     "base_uri": "https://localhost:8080/",
     "height": 84
    },
    "colab_type": "code",
    "id": "-5bCuc9kjM5Z",
    "outputId": "209972dc-58bb-4a70-ee4d-2990a4df5b5e"
   },
   "outputs": [
    {
     "data": {
      "text/plain": [
       "0    7681\n",
       "2    2573\n",
       "1     460\n",
       "Name: Deaths/1M, dtype: int64"
      ]
     },
     "execution_count": 15,
     "metadata": {},
     "output_type": "execute_result"
    }
   ],
   "source": [
    "pd.value_counts(train['Deaths/1M'])"
   ]
  },
  {
   "cell_type": "code",
   "execution_count": 16,
   "metadata": {
    "colab": {
     "base_uri": "https://localhost:8080/",
     "height": 592
    },
    "colab_type": "code",
    "id": "dDdcHJeUjuin",
    "outputId": "b1d7b816-d613-42b1-9da2-3b1bf5428a91"
   },
   "outputs": [
    {
     "data": {
      "text/plain": [
       "<matplotlib.axes._subplots.AxesSubplot at 0x13339d1c108>"
      ]
     },
     "execution_count": 16,
     "metadata": {},
     "output_type": "execute_result"
    },
    {
     "data": {
      "image/png": "[encoded data removed]",
      "text/plain": [
       "<Figure size 1800x720 with 2 Axes>"
      ]
     },
     "metadata": {
      "needs_background": "light"
     },
     "output_type": "display_data"
    }
   ],
   "source": [
    "import missingno as msno\n",
    "msno.matrix(train)"
   ]
  },
  {
   "cell_type": "code",
   "execution_count": 17,
   "metadata": {
    "colab": {
     "base_uri": "https://localhost:8080/",
     "height": 745
    },
    "colab_type": "code",
    "id": "p7kL8_FL25qk",
    "outputId": "ca0230bb-12ac-486d-c4a2-71dd62948b56"
   },
   "outputs": [
    {
     "data": {
      "text/plain": [
       "<matplotlib.axes._subplots.AxesSubplot at 0x1333a0e1088>"
      ]
     },
     "execution_count": 17,
     "metadata": {},
     "output_type": "execute_result"
    },
    {
     "data": {
      "image/png": "[encoded data removed]",
      "text/plain": [
       "<Figure size 1440x864 with 2 Axes>"
      ]
     },
     "metadata": {
      "needs_background": "light"
     },
     "output_type": "display_data"
    }
   ],
   "source": [
    "msno.heatmap(train)"
   ]
  },
  {
   "cell_type": "code",
   "execution_count": 18,
   "metadata": {
    "colab": {},
    "colab_type": "code",
    "id": "sFVYv3pclBKX"
   },
   "outputs": [],
   "source": [
    "train['Married'] = train['Married'].replace('YES', 1)\n",
    "train['Married'] = train['Married'].replace('NO', 0)\n"
   ]
  },
  {
   "cell_type": "code",
   "execution_count": 19,
   "metadata": {
    "colab": {},
    "colab_type": "code",
    "id": "J5JldouWHore"
   },
   "outputs": [],
   "source": [
    "def fillchildren(cols):\n",
    "  children = cols[0]\n",
    "  married = cols[1]\n",
    "  if np.isnan(children):\n",
    "    if married == 0:\n",
    "      return 0\n",
    "    else:\n",
    "      return children\n",
    "  else:\n",
    "    return children\n",
    "train['Children'] = train[['Children', 'Married']].apply(fillchildren, axis = 1)"
   ]
  },
  {
   "cell_type": "code",
   "execution_count": 20,
   "metadata": {
    "colab": {
     "base_uri": "https://localhost:8080/",
     "height": 33
    },
    "colab_type": "code",
    "id": "GPxY3cwaPinN",
    "outputId": "26eff779-1bb7-4b56-b482-9b92cb27abdf"
   },
   "outputs": [
    {
     "data": {
      "text/plain": [
       "0"
      ]
     },
     "execution_count": 20,
     "metadata": {},
     "output_type": "execute_result"
    }
   ],
   "source": [
    "train.Children.isna().sum()"
   ]
  },
  {
   "cell_type": "code",
   "execution_count": 21,
   "metadata": {
    "colab": {
     "base_uri": "https://localhost:8080/",
     "height": 317
    },
    "colab_type": "code",
    "id": "fN-JYVtqQqzh",
    "outputId": "d420ea29-0333-482c-e0d8-14019c869bd7"
   },
   "outputs": [
    {
     "data": {
      "text/html": [
       "<div>\n",
       "<style scoped>\n",
       "    .dataframe tbody tr th:only-of-type {\n",
       "        vertical-align: middle;\n",
       "    }\n",
       "\n",
       "    .dataframe tbody tr th {\n",
       "        vertical-align: top;\n",
       "    }\n",
       "\n",
       "    .dataframe thead th {\n",
       "        text-align: right;\n",
       "    }\n",
       "</style>\n",
       "<table border=\"1\" class=\"dataframe\">\n",
       "  <thead>\n",
       "    <tr style=\"text-align: right;\">\n",
       "      <th></th>\n",
       "      <th>people_ID</th>\n",
       "      <th>Region</th>\n",
       "      <th>Gender</th>\n",
       "      <th>Designation</th>\n",
       "      <th>Name</th>\n",
       "      <th>Married</th>\n",
       "      <th>Children</th>\n",
       "      <th>Occupation</th>\n",
       "      <th>Mode_transport</th>\n",
       "      <th>cases/1M</th>\n",
       "      <th>...</th>\n",
       "      <th>HBB</th>\n",
       "      <th>d-dimer</th>\n",
       "      <th>Heart rate</th>\n",
       "      <th>HDL cholesterol</th>\n",
       "      <th>Charlson Index</th>\n",
       "      <th>Blood Glucose</th>\n",
       "      <th>Insurance</th>\n",
       "      <th>salary</th>\n",
       "      <th>FT/month</th>\n",
       "      <th>Infect_Prob</th>\n",
       "    </tr>\n",
       "  </thead>\n",
       "  <tbody>\n",
       "    <tr>\n",
       "      <th>10709</th>\n",
       "      <td>22691</td>\n",
       "      <td>Bengaluru</td>\n",
       "      <td>Male</td>\n",
       "      <td>Mr</td>\n",
       "      <td>ashish</td>\n",
       "      <td>0</td>\n",
       "      <td>2.0</td>\n",
       "      <td>Business</td>\n",
       "      <td>Car</td>\n",
       "      <td>8</td>\n",
       "      <td>...</td>\n",
       "      <td>24.0</td>\n",
       "      <td>209.0</td>\n",
       "      <td>61.0</td>\n",
       "      <td>56.0</td>\n",
       "      <td>35</td>\n",
       "      <td>7</td>\n",
       "      <td>4000000.0</td>\n",
       "      <td>300000</td>\n",
       "      <td>0.0</td>\n",
       "      <td>41.981760</td>\n",
       "    </tr>\n",
       "    <tr>\n",
       "      <th>10710</th>\n",
       "      <td>22692</td>\n",
       "      <td>Bengaluru</td>\n",
       "      <td>Male</td>\n",
       "      <td>Mr</td>\n",
       "      <td>mohd mujahid ansari</td>\n",
       "      <td>1</td>\n",
       "      <td>0.0</td>\n",
       "      <td>Manufacturing</td>\n",
       "      <td>Car</td>\n",
       "      <td>8</td>\n",
       "      <td>...</td>\n",
       "      <td>134.0</td>\n",
       "      <td>211.0</td>\n",
       "      <td>65.0</td>\n",
       "      <td>47.0</td>\n",
       "      <td>35</td>\n",
       "      <td>7</td>\n",
       "      <td>1500000.0</td>\n",
       "      <td>700000</td>\n",
       "      <td>NaN</td>\n",
       "      <td>47.148663</td>\n",
       "    </tr>\n",
       "    <tr>\n",
       "      <th>10711</th>\n",
       "      <td>22693</td>\n",
       "      <td>Bengaluru</td>\n",
       "      <td>Male</td>\n",
       "      <td>Mr</td>\n",
       "      <td>munnakumar</td>\n",
       "      <td>1</td>\n",
       "      <td>0.0</td>\n",
       "      <td>Clerk</td>\n",
       "      <td>Public</td>\n",
       "      <td>8</td>\n",
       "      <td>...</td>\n",
       "      <td>151.0</td>\n",
       "      <td>296.0</td>\n",
       "      <td>87.0</td>\n",
       "      <td>37.0</td>\n",
       "      <td>16</td>\n",
       "      <td>5</td>\n",
       "      <td>3000000.0</td>\n",
       "      <td>2100000</td>\n",
       "      <td>2.0</td>\n",
       "      <td>47.708533</td>\n",
       "    </tr>\n",
       "    <tr>\n",
       "      <th>10712</th>\n",
       "      <td>22694</td>\n",
       "      <td>Bengaluru</td>\n",
       "      <td>Male</td>\n",
       "      <td>Mr</td>\n",
       "      <td>prakash</td>\n",
       "      <td>1</td>\n",
       "      <td>1.0</td>\n",
       "      <td>Legal</td>\n",
       "      <td>Walk</td>\n",
       "      <td>8</td>\n",
       "      <td>...</td>\n",
       "      <td>110.0</td>\n",
       "      <td>253.0</td>\n",
       "      <td>56.0</td>\n",
       "      <td>70.0</td>\n",
       "      <td>28</td>\n",
       "      <td>5</td>\n",
       "      <td>2900000.0</td>\n",
       "      <td>700000</td>\n",
       "      <td>1.0</td>\n",
       "      <td>53.803565</td>\n",
       "    </tr>\n",
       "    <tr>\n",
       "      <th>10713</th>\n",
       "      <td>22695</td>\n",
       "      <td>Bengaluru</td>\n",
       "      <td>Male</td>\n",
       "      <td>Mr</td>\n",
       "      <td>mehboob mehandi</td>\n",
       "      <td>0</td>\n",
       "      <td>2.0</td>\n",
       "      <td>Business</td>\n",
       "      <td>Car</td>\n",
       "      <td>8</td>\n",
       "      <td>...</td>\n",
       "      <td>134.0</td>\n",
       "      <td>201.0</td>\n",
       "      <td>82.0</td>\n",
       "      <td>60.0</td>\n",
       "      <td>4</td>\n",
       "      <td>3</td>\n",
       "      <td>2100000.0</td>\n",
       "      <td>1400000</td>\n",
       "      <td>0.0</td>\n",
       "      <td>68.342400</td>\n",
       "    </tr>\n",
       "  </tbody>\n",
       "</table>\n",
       "<p>5 rows × 28 columns</p>\n",
       "</div>"
      ],
      "text/plain": [
       "       people_ID     Region Gender Designation                 Name  Married  \\\n",
       "10709      22691  Bengaluru   Male          Mr               ashish        0   \n",
       "10710      22692  Bengaluru   Male          Mr  mohd mujahid ansari        1   \n",
       "10711      22693  Bengaluru   Male          Mr           munnakumar        1   \n",
       "10712      22694  Bengaluru   Male          Mr              prakash        1   \n",
       "10713      22695  Bengaluru   Male          Mr      mehboob mehandi        0   \n",
       "\n",
       "       Children     Occupation Mode_transport  cases/1M  ...    HBB d-dimer  \\\n",
       "10709       2.0       Business            Car         8  ...   24.0   209.0   \n",
       "10710       0.0  Manufacturing            Car         8  ...  134.0   211.0   \n",
       "10711       0.0          Clerk         Public         8  ...  151.0   296.0   \n",
       "10712       1.0          Legal           Walk         8  ...  110.0   253.0   \n",
       "10713       2.0       Business            Car         8  ...  134.0   201.0   \n",
       "\n",
       "       Heart rate  HDL cholesterol Charlson Index Blood Glucose  Insurance  \\\n",
       "10709        61.0             56.0             35             7  4000000.0   \n",
       "10710        65.0             47.0             35             7  1500000.0   \n",
       "10711        87.0             37.0             16             5  3000000.0   \n",
       "10712        56.0             70.0             28             5  2900000.0   \n",
       "10713        82.0             60.0              4             3  2100000.0   \n",
       "\n",
       "        salary  FT/month  Infect_Prob  \n",
       "10709   300000       0.0    41.981760  \n",
       "10710   700000       NaN    47.148663  \n",
       "10711  2100000       2.0    47.708533  \n",
       "10712   700000       1.0    53.803565  \n",
       "10713  1400000       0.0    68.342400  \n",
       "\n",
       "[5 rows x 28 columns]"
      ]
     },
     "execution_count": 21,
     "metadata": {},
     "output_type": "execute_result"
    }
   ],
   "source": [
    "train.tail()"
   ]
  },
  {
   "cell_type": "code",
   "execution_count": 22,
   "metadata": {
    "colab": {},
    "colab_type": "code",
    "id": "umJQPv65uvcg"
   },
   "outputs": [],
   "source": [
    "train['Platelets'].interpolate(method = 'polynomial', order = 2, inplace = True, direction ='both')"
   ]
  },
  {
   "cell_type": "code",
   "execution_count": 23,
   "metadata": {
    "colab": {},
    "colab_type": "code",
    "id": "6nciWQuQtCBE"
   },
   "outputs": [],
   "source": [
    "train['Heart rate'].interpolate(method = 'polynomial', order = 2, inplace = True, direction ='both')\n",
    "train['d-dimer'].interpolate(method = 'polynomial', order = 2, inplace = True, direction ='both')"
   ]
  },
  {
   "cell_type": "code",
   "execution_count": 24,
   "metadata": {
    "colab": {},
    "colab_type": "code",
    "id": "fx_yvFszxzF9"
   },
   "outputs": [],
   "source": [
    "# FT/month, Insurance, HDL cholesterol, HBB"
   ]
  },
  {
   "cell_type": "code",
   "execution_count": 25,
   "metadata": {
    "colab": {},
    "colab_type": "code",
    "id": "3x0XQ0iNxY-f"
   },
   "outputs": [],
   "source": [
    "from sklearn.preprocessing import OneHotEncoder\n",
    "enc = OneHotEncoder()\n"
   ]
  },
  {
   "cell_type": "code",
   "execution_count": 26,
   "metadata": {
    "colab": {},
    "colab_type": "code",
    "id": "vKwZJmgFxvl8"
   },
   "outputs": [],
   "source": [
    "enc_df = pd.DataFrame(enc.fit_transform(train[['Gender']]).toarray())\n",
    "enc_df.columns = enc.get_feature_names(['Gender'])"
   ]
  },
  {
   "cell_type": "code",
   "execution_count": 27,
   "metadata": {
    "colab": {},
    "colab_type": "code",
    "id": "1fj3oQAv0Qep"
   },
   "outputs": [],
   "source": [
    "train = train.join(enc_df)"
   ]
  },
  {
   "cell_type": "code",
   "execution_count": 28,
   "metadata": {
    "colab": {
     "base_uri": "https://localhost:8080/",
     "height": 300
    },
    "colab_type": "code",
    "id": "pCxZuI_d0WPu",
    "outputId": "489dc3c0-7899-424a-81cf-2879ce81ba95"
   },
   "outputs": [
    {
     "data": {
      "text/html": [
       "<div>\n",
       "<style scoped>\n",
       "    .dataframe tbody tr th:only-of-type {\n",
       "        vertical-align: middle;\n",
       "    }\n",
       "\n",
       "    .dataframe tbody tr th {\n",
       "        vertical-align: top;\n",
       "    }\n",
       "\n",
       "    .dataframe thead th {\n",
       "        text-align: right;\n",
       "    }\n",
       "</style>\n",
       "<table border=\"1\" class=\"dataframe\">\n",
       "  <thead>\n",
       "    <tr style=\"text-align: right;\">\n",
       "      <th></th>\n",
       "      <th>people_ID</th>\n",
       "      <th>Region</th>\n",
       "      <th>Gender</th>\n",
       "      <th>Designation</th>\n",
       "      <th>Name</th>\n",
       "      <th>Married</th>\n",
       "      <th>Children</th>\n",
       "      <th>Occupation</th>\n",
       "      <th>Mode_transport</th>\n",
       "      <th>cases/1M</th>\n",
       "      <th>...</th>\n",
       "      <th>Heart rate</th>\n",
       "      <th>HDL cholesterol</th>\n",
       "      <th>Charlson Index</th>\n",
       "      <th>Blood Glucose</th>\n",
       "      <th>Insurance</th>\n",
       "      <th>salary</th>\n",
       "      <th>FT/month</th>\n",
       "      <th>Infect_Prob</th>\n",
       "      <th>Gender_Female</th>\n",
       "      <th>Gender_Male</th>\n",
       "    </tr>\n",
       "  </thead>\n",
       "  <tbody>\n",
       "    <tr>\n",
       "      <th>0</th>\n",
       "      <td>1</td>\n",
       "      <td>Bhubaneshwar</td>\n",
       "      <td>Female</td>\n",
       "      <td>Mrs</td>\n",
       "      <td>mansi</td>\n",
       "      <td>1</td>\n",
       "      <td>1.0</td>\n",
       "      <td>Farmer</td>\n",
       "      <td>Public</td>\n",
       "      <td>2</td>\n",
       "      <td>...</td>\n",
       "      <td>82.0</td>\n",
       "      <td>58.0</td>\n",
       "      <td>27</td>\n",
       "      <td>7</td>\n",
       "      <td>3600000.0</td>\n",
       "      <td>1300000</td>\n",
       "      <td>2.0</td>\n",
       "      <td>49.135010</td>\n",
       "      <td>1.0</td>\n",
       "      <td>0.0</td>\n",
       "    </tr>\n",
       "    <tr>\n",
       "      <th>1</th>\n",
       "      <td>2</td>\n",
       "      <td>Bhubaneshwar</td>\n",
       "      <td>Female</td>\n",
       "      <td>Mrs</td>\n",
       "      <td>riya masi</td>\n",
       "      <td>1</td>\n",
       "      <td>2.0</td>\n",
       "      <td>Farmer</td>\n",
       "      <td>Walk</td>\n",
       "      <td>2</td>\n",
       "      <td>...</td>\n",
       "      <td>89.0</td>\n",
       "      <td>68.0</td>\n",
       "      <td>5</td>\n",
       "      <td>6</td>\n",
       "      <td>1600000.0</td>\n",
       "      <td>400000</td>\n",
       "      <td>1.0</td>\n",
       "      <td>51.147880</td>\n",
       "      <td>1.0</td>\n",
       "      <td>0.0</td>\n",
       "    </tr>\n",
       "    <tr>\n",
       "      <th>2</th>\n",
       "      <td>3</td>\n",
       "      <td>Bhubaneshwar</td>\n",
       "      <td>Female</td>\n",
       "      <td>Mrs</td>\n",
       "      <td>sunita</td>\n",
       "      <td>0</td>\n",
       "      <td>1.0</td>\n",
       "      <td>Cleaner</td>\n",
       "      <td>Public</td>\n",
       "      <td>2</td>\n",
       "      <td>...</td>\n",
       "      <td>77.0</td>\n",
       "      <td>43.0</td>\n",
       "      <td>40</td>\n",
       "      <td>6</td>\n",
       "      <td>3400000.0</td>\n",
       "      <td>900000</td>\n",
       "      <td>1.0</td>\n",
       "      <td>73.224000</td>\n",
       "      <td>1.0</td>\n",
       "      <td>0.0</td>\n",
       "    </tr>\n",
       "    <tr>\n",
       "      <th>3</th>\n",
       "      <td>4</td>\n",
       "      <td>Bhubaneshwar</td>\n",
       "      <td>Female</td>\n",
       "      <td>Mrs</td>\n",
       "      <td>anjali @ babli</td>\n",
       "      <td>1</td>\n",
       "      <td>1.0</td>\n",
       "      <td>Driver</td>\n",
       "      <td>Car</td>\n",
       "      <td>2</td>\n",
       "      <td>...</td>\n",
       "      <td>64.0</td>\n",
       "      <td>60.0</td>\n",
       "      <td>27</td>\n",
       "      <td>7</td>\n",
       "      <td>700000.0</td>\n",
       "      <td>2300000</td>\n",
       "      <td>1.0</td>\n",
       "      <td>48.779225</td>\n",
       "      <td>1.0</td>\n",
       "      <td>0.0</td>\n",
       "    </tr>\n",
       "    <tr>\n",
       "      <th>4</th>\n",
       "      <td>5</td>\n",
       "      <td>Bhubaneshwar</td>\n",
       "      <td>Female</td>\n",
       "      <td>Mrs</td>\n",
       "      <td>champa karketta</td>\n",
       "      <td>0</td>\n",
       "      <td>2.0</td>\n",
       "      <td>Manufacturing</td>\n",
       "      <td>Car</td>\n",
       "      <td>2</td>\n",
       "      <td>...</td>\n",
       "      <td>71.0</td>\n",
       "      <td>64.0</td>\n",
       "      <td>32</td>\n",
       "      <td>7</td>\n",
       "      <td>3200000.0</td>\n",
       "      <td>1100000</td>\n",
       "      <td>1.0</td>\n",
       "      <td>87.868800</td>\n",
       "      <td>1.0</td>\n",
       "      <td>0.0</td>\n",
       "    </tr>\n",
       "  </tbody>\n",
       "</table>\n",
       "<p>5 rows × 30 columns</p>\n",
       "</div>"
      ],
      "text/plain": [
       "   people_ID        Region  Gender Designation             Name  Married  \\\n",
       "0          1  Bhubaneshwar  Female         Mrs            mansi        1   \n",
       "1          2  Bhubaneshwar  Female         Mrs        riya masi        1   \n",
       "2          3  Bhubaneshwar  Female         Mrs           sunita        0   \n",
       "3          4  Bhubaneshwar  Female         Mrs   anjali @ babli        1   \n",
       "4          5  Bhubaneshwar  Female         Mrs  champa karketta        0   \n",
       "\n",
       "   Children     Occupation Mode_transport  cases/1M  ...  Heart rate  \\\n",
       "0       1.0         Farmer         Public         2  ...        82.0   \n",
       "1       2.0         Farmer           Walk         2  ...        89.0   \n",
       "2       1.0        Cleaner         Public         2  ...        77.0   \n",
       "3       1.0         Driver            Car         2  ...        64.0   \n",
       "4       2.0  Manufacturing            Car         2  ...        71.0   \n",
       "\n",
       "  HDL cholesterol  Charlson Index  Blood Glucose  Insurance   salary  \\\n",
       "0            58.0              27              7  3600000.0  1300000   \n",
       "1            68.0               5              6  1600000.0   400000   \n",
       "2            43.0              40              6  3400000.0   900000   \n",
       "3            60.0              27              7   700000.0  2300000   \n",
       "4            64.0              32              7  3200000.0  1100000   \n",
       "\n",
       "   FT/month  Infect_Prob  Gender_Female  Gender_Male  \n",
       "0       2.0    49.135010            1.0          0.0  \n",
       "1       1.0    51.147880            1.0          0.0  \n",
       "2       1.0    73.224000            1.0          0.0  \n",
       "3       1.0    48.779225            1.0          0.0  \n",
       "4       1.0    87.868800            1.0          0.0  \n",
       "\n",
       "[5 rows x 30 columns]"
      ]
     },
     "execution_count": 28,
     "metadata": {},
     "output_type": "execute_result"
    }
   ],
   "source": [
    "train.head()"
   ]
  },
  {
   "cell_type": "code",
   "execution_count": 29,
   "metadata": {
    "colab": {},
    "colab_type": "code",
    "id": "2F-obPJz0Z6p"
   },
   "outputs": [],
   "source": [
    "train = train.drop(['Gender','Designation', 'Name'], axis =1)"
   ]
  },
  {
   "cell_type": "code",
   "execution_count": 30,
   "metadata": {
    "colab": {
     "base_uri": "https://localhost:8080/",
     "height": 266
    },
    "colab_type": "code",
    "id": "eTTpfhXP3Jhx",
    "outputId": "2c1e81d2-5d29-4634-dc06-fd58a8152369"
   },
   "outputs": [
    {
     "data": {
      "text/html": [
       "<div>\n",
       "<style scoped>\n",
       "    .dataframe tbody tr th:only-of-type {\n",
       "        vertical-align: middle;\n",
       "    }\n",
       "\n",
       "    .dataframe tbody tr th {\n",
       "        vertical-align: top;\n",
       "    }\n",
       "\n",
       "    .dataframe thead th {\n",
       "        text-align: right;\n",
       "    }\n",
       "</style>\n",
       "<table border=\"1\" class=\"dataframe\">\n",
       "  <thead>\n",
       "    <tr style=\"text-align: right;\">\n",
       "      <th></th>\n",
       "      <th>people_ID</th>\n",
       "      <th>Region</th>\n",
       "      <th>Married</th>\n",
       "      <th>Children</th>\n",
       "      <th>Occupation</th>\n",
       "      <th>Mode_transport</th>\n",
       "      <th>cases/1M</th>\n",
       "      <th>Deaths/1M</th>\n",
       "      <th>comorbidity</th>\n",
       "      <th>Age</th>\n",
       "      <th>...</th>\n",
       "      <th>Heart rate</th>\n",
       "      <th>HDL cholesterol</th>\n",
       "      <th>Charlson Index</th>\n",
       "      <th>Blood Glucose</th>\n",
       "      <th>Insurance</th>\n",
       "      <th>salary</th>\n",
       "      <th>FT/month</th>\n",
       "      <th>Infect_Prob</th>\n",
       "      <th>Gender_Female</th>\n",
       "      <th>Gender_Male</th>\n",
       "    </tr>\n",
       "  </thead>\n",
       "  <tbody>\n",
       "    <tr>\n",
       "      <th>0</th>\n",
       "      <td>1</td>\n",
       "      <td>Bhubaneshwar</td>\n",
       "      <td>1</td>\n",
       "      <td>1.0</td>\n",
       "      <td>Farmer</td>\n",
       "      <td>Public</td>\n",
       "      <td>2</td>\n",
       "      <td>0</td>\n",
       "      <td>Hypertension</td>\n",
       "      <td>68</td>\n",
       "      <td>...</td>\n",
       "      <td>82.0</td>\n",
       "      <td>58.0</td>\n",
       "      <td>27</td>\n",
       "      <td>7</td>\n",
       "      <td>3600000.0</td>\n",
       "      <td>1300000</td>\n",
       "      <td>2.0</td>\n",
       "      <td>49.135010</td>\n",
       "      <td>1.0</td>\n",
       "      <td>0.0</td>\n",
       "    </tr>\n",
       "    <tr>\n",
       "      <th>1</th>\n",
       "      <td>2</td>\n",
       "      <td>Bhubaneshwar</td>\n",
       "      <td>1</td>\n",
       "      <td>2.0</td>\n",
       "      <td>Farmer</td>\n",
       "      <td>Walk</td>\n",
       "      <td>2</td>\n",
       "      <td>0</td>\n",
       "      <td>Diabetes</td>\n",
       "      <td>64</td>\n",
       "      <td>...</td>\n",
       "      <td>89.0</td>\n",
       "      <td>68.0</td>\n",
       "      <td>5</td>\n",
       "      <td>6</td>\n",
       "      <td>1600000.0</td>\n",
       "      <td>400000</td>\n",
       "      <td>1.0</td>\n",
       "      <td>51.147880</td>\n",
       "      <td>1.0</td>\n",
       "      <td>0.0</td>\n",
       "    </tr>\n",
       "    <tr>\n",
       "      <th>2</th>\n",
       "      <td>3</td>\n",
       "      <td>Bhubaneshwar</td>\n",
       "      <td>0</td>\n",
       "      <td>1.0</td>\n",
       "      <td>Cleaner</td>\n",
       "      <td>Public</td>\n",
       "      <td>2</td>\n",
       "      <td>0</td>\n",
       "      <td>None</td>\n",
       "      <td>19</td>\n",
       "      <td>...</td>\n",
       "      <td>77.0</td>\n",
       "      <td>43.0</td>\n",
       "      <td>40</td>\n",
       "      <td>6</td>\n",
       "      <td>3400000.0</td>\n",
       "      <td>900000</td>\n",
       "      <td>1.0</td>\n",
       "      <td>73.224000</td>\n",
       "      <td>1.0</td>\n",
       "      <td>0.0</td>\n",
       "    </tr>\n",
       "    <tr>\n",
       "      <th>3</th>\n",
       "      <td>4</td>\n",
       "      <td>Bhubaneshwar</td>\n",
       "      <td>1</td>\n",
       "      <td>1.0</td>\n",
       "      <td>Driver</td>\n",
       "      <td>Car</td>\n",
       "      <td>2</td>\n",
       "      <td>0</td>\n",
       "      <td>Coronary Heart Disease</td>\n",
       "      <td>33</td>\n",
       "      <td>...</td>\n",
       "      <td>64.0</td>\n",
       "      <td>60.0</td>\n",
       "      <td>27</td>\n",
       "      <td>7</td>\n",
       "      <td>700000.0</td>\n",
       "      <td>2300000</td>\n",
       "      <td>1.0</td>\n",
       "      <td>48.779225</td>\n",
       "      <td>1.0</td>\n",
       "      <td>0.0</td>\n",
       "    </tr>\n",
       "    <tr>\n",
       "      <th>4</th>\n",
       "      <td>5</td>\n",
       "      <td>Bhubaneshwar</td>\n",
       "      <td>0</td>\n",
       "      <td>2.0</td>\n",
       "      <td>Manufacturing</td>\n",
       "      <td>Car</td>\n",
       "      <td>2</td>\n",
       "      <td>0</td>\n",
       "      <td>Diabetes</td>\n",
       "      <td>23</td>\n",
       "      <td>...</td>\n",
       "      <td>71.0</td>\n",
       "      <td>64.0</td>\n",
       "      <td>32</td>\n",
       "      <td>7</td>\n",
       "      <td>3200000.0</td>\n",
       "      <td>1100000</td>\n",
       "      <td>1.0</td>\n",
       "      <td>87.868800</td>\n",
       "      <td>1.0</td>\n",
       "      <td>0.0</td>\n",
       "    </tr>\n",
       "  </tbody>\n",
       "</table>\n",
       "<p>5 rows × 27 columns</p>\n",
       "</div>"
      ],
      "text/plain": [
       "   people_ID        Region  Married  Children     Occupation Mode_transport  \\\n",
       "0          1  Bhubaneshwar        1       1.0         Farmer         Public   \n",
       "1          2  Bhubaneshwar        1       2.0         Farmer           Walk   \n",
       "2          3  Bhubaneshwar        0       1.0        Cleaner         Public   \n",
       "3          4  Bhubaneshwar        1       1.0         Driver            Car   \n",
       "4          5  Bhubaneshwar        0       2.0  Manufacturing            Car   \n",
       "\n",
       "   cases/1M  Deaths/1M             comorbidity  Age  ...  Heart rate  \\\n",
       "0         2          0            Hypertension   68  ...        82.0   \n",
       "1         2          0                Diabetes   64  ...        89.0   \n",
       "2         2          0                    None   19  ...        77.0   \n",
       "3         2          0  Coronary Heart Disease   33  ...        64.0   \n",
       "4         2          0                Diabetes   23  ...        71.0   \n",
       "\n",
       "  HDL cholesterol Charlson Index  Blood Glucose  Insurance   salary  FT/month  \\\n",
       "0            58.0             27              7  3600000.0  1300000       2.0   \n",
       "1            68.0              5              6  1600000.0   400000       1.0   \n",
       "2            43.0             40              6  3400000.0   900000       1.0   \n",
       "3            60.0             27              7   700000.0  2300000       1.0   \n",
       "4            64.0             32              7  3200000.0  1100000       1.0   \n",
       "\n",
       "   Infect_Prob  Gender_Female  Gender_Male  \n",
       "0    49.135010            1.0          0.0  \n",
       "1    51.147880            1.0          0.0  \n",
       "2    73.224000            1.0          0.0  \n",
       "3    48.779225            1.0          0.0  \n",
       "4    87.868800            1.0          0.0  \n",
       "\n",
       "[5 rows x 27 columns]"
      ]
     },
     "execution_count": 30,
     "metadata": {},
     "output_type": "execute_result"
    }
   ],
   "source": [
    "train.head()"
   ]
  },
  {
   "cell_type": "code",
   "execution_count": 31,
   "metadata": {
    "colab": {},
    "colab_type": "code",
    "id": "SVmnPSNB4eue"
   },
   "outputs": [],
   "source": [
    "train[\"Occupation\"] = train['Occupation'].fillna('Others')"
   ]
  },
  {
   "cell_type": "code",
   "execution_count": 32,
   "metadata": {
    "colab": {},
    "colab_type": "code",
    "id": "2_KhzqpfL0Ri"
   },
   "outputs": [],
   "source": [
    "def fillinsurance(cols):\n",
    "  occ = cols[0]\n",
    "  ins = cols[1]\n",
    "  if np.isnan(ins):\n",
    "    if occ == 'Others':\n",
    "      return 0\n",
    "    else:\n",
    "      return ins\n",
    "  else:\n",
    "    return ins\n",
    "\n",
    "train['Insurance'] = train[['Occupation', 'Insurance']].apply(fillinsurance, axis=1) "
   ]
  },
  {
   "cell_type": "code",
   "execution_count": 33,
   "metadata": {
    "colab": {},
    "colab_type": "code",
    "id": "SF6ztJZ-WVmD"
   },
   "outputs": [],
   "source": [
    "train['Insurance'].interpolate(method = 'polynomial', order = 2, inplace = True, direction ='both')"
   ]
  },
  {
   "cell_type": "code",
   "execution_count": 34,
   "metadata": {
    "colab": {
     "base_uri": "https://localhost:8080/",
     "height": 322
    },
    "colab_type": "code",
    "id": "g-BankyMW0Qv",
    "outputId": "d249adc1-0b94-4bf1-e9a9-881112912e38"
   },
   "outputs": [
    {
     "data": {
      "text/html": [
       "<div>\n",
       "<style scoped>\n",
       "    .dataframe tbody tr th:only-of-type {\n",
       "        vertical-align: middle;\n",
       "    }\n",
       "\n",
       "    .dataframe tbody tr th {\n",
       "        vertical-align: top;\n",
       "    }\n",
       "\n",
       "    .dataframe thead th {\n",
       "        text-align: right;\n",
       "    }\n",
       "</style>\n",
       "<table border=\"1\" class=\"dataframe\">\n",
       "  <thead>\n",
       "    <tr style=\"text-align: right;\">\n",
       "      <th></th>\n",
       "      <th>people_ID</th>\n",
       "      <th>Married</th>\n",
       "      <th>Children</th>\n",
       "      <th>cases/1M</th>\n",
       "      <th>Deaths/1M</th>\n",
       "      <th>Age</th>\n",
       "      <th>Coma score</th>\n",
       "      <th>Diuresis</th>\n",
       "      <th>Platelets</th>\n",
       "      <th>HBB</th>\n",
       "      <th>...</th>\n",
       "      <th>Heart rate</th>\n",
       "      <th>HDL cholesterol</th>\n",
       "      <th>Charlson Index</th>\n",
       "      <th>Blood Glucose</th>\n",
       "      <th>Insurance</th>\n",
       "      <th>salary</th>\n",
       "      <th>FT/month</th>\n",
       "      <th>Infect_Prob</th>\n",
       "      <th>Gender_Female</th>\n",
       "      <th>Gender_Male</th>\n",
       "    </tr>\n",
       "  </thead>\n",
       "  <tbody>\n",
       "    <tr>\n",
       "      <th>count</th>\n",
       "      <td>10714.000000</td>\n",
       "      <td>10714.000000</td>\n",
       "      <td>10714.000000</td>\n",
       "      <td>10714.000000</td>\n",
       "      <td>10714.000000</td>\n",
       "      <td>10714.000000</td>\n",
       "      <td>10714.000000</td>\n",
       "      <td>9998.000000</td>\n",
       "      <td>10714.000000</td>\n",
       "      <td>10698.000000</td>\n",
       "      <td>...</td>\n",
       "      <td>10714.000000</td>\n",
       "      <td>10679.000000</td>\n",
       "      <td>10714.000000</td>\n",
       "      <td>10714.000000</td>\n",
       "      <td>1.071400e+04</td>\n",
       "      <td>1.071400e+04</td>\n",
       "      <td>9991.000000</td>\n",
       "      <td>10714.000000</td>\n",
       "      <td>10714.000000</td>\n",
       "      <td>10714.000000</td>\n",
       "    </tr>\n",
       "    <tr>\n",
       "      <th>mean</th>\n",
       "      <td>10084.893784</td>\n",
       "      <td>0.791581</td>\n",
       "      <td>1.031921</td>\n",
       "      <td>3.285888</td>\n",
       "      <td>0.523241</td>\n",
       "      <td>42.083722</td>\n",
       "      <td>9.013067</td>\n",
       "      <td>278.806261</td>\n",
       "      <td>87.904723</td>\n",
       "      <td>116.170967</td>\n",
       "      <td>...</td>\n",
       "      <td>74.743515</td>\n",
       "      <td>52.632737</td>\n",
       "      <td>20.028094</td>\n",
       "      <td>5.015027</td>\n",
       "      <td>2.453690e+06</td>\n",
       "      <td>1.304713e+06</td>\n",
       "      <td>1.004604</td>\n",
       "      <td>52.280680</td>\n",
       "      <td>0.506160</td>\n",
       "      <td>0.493840</td>\n",
       "    </tr>\n",
       "    <tr>\n",
       "      <th>std</th>\n",
       "      <td>7108.663645</td>\n",
       "      <td>0.406197</td>\n",
       "      <td>0.825766</td>\n",
       "      <td>2.721274</td>\n",
       "      <td>0.854303</td>\n",
       "      <td>15.323397</td>\n",
       "      <td>3.714970</td>\n",
       "      <td>97.985526</td>\n",
       "      <td>42.356553</td>\n",
       "      <td>55.178811</td>\n",
       "      <td>...</td>\n",
       "      <td>15.127063</td>\n",
       "      <td>10.434293</td>\n",
       "      <td>11.828445</td>\n",
       "      <td>1.399770</td>\n",
       "      <td>1.502466e+06</td>\n",
       "      <td>6.075947e+05</td>\n",
       "      <td>0.815257</td>\n",
       "      <td>10.674667</td>\n",
       "      <td>0.499985</td>\n",
       "      <td>0.499985</td>\n",
       "    </tr>\n",
       "    <tr>\n",
       "      <th>min</th>\n",
       "      <td>1.000000</td>\n",
       "      <td>0.000000</td>\n",
       "      <td>0.000000</td>\n",
       "      <td>1.000000</td>\n",
       "      <td>0.000000</td>\n",
       "      <td>16.000000</td>\n",
       "      <td>3.000000</td>\n",
       "      <td>110.000000</td>\n",
       "      <td>-49.318573</td>\n",
       "      <td>20.000000</td>\n",
       "      <td>...</td>\n",
       "      <td>25.964334</td>\n",
       "      <td>35.000000</td>\n",
       "      <td>0.000000</td>\n",
       "      <td>3.000000</td>\n",
       "      <td>-1.916144e+06</td>\n",
       "      <td>3.000000e+05</td>\n",
       "      <td>0.000000</td>\n",
       "      <td>29.289600</td>\n",
       "      <td>0.000000</td>\n",
       "      <td>0.000000</td>\n",
       "    </tr>\n",
       "    <tr>\n",
       "      <th>25%</th>\n",
       "      <td>2679.250000</td>\n",
       "      <td>1.000000</td>\n",
       "      <td>0.000000</td>\n",
       "      <td>2.000000</td>\n",
       "      <td>0.000000</td>\n",
       "      <td>29.000000</td>\n",
       "      <td>6.000000</td>\n",
       "      <td>194.000000</td>\n",
       "      <td>52.000000</td>\n",
       "      <td>68.000000</td>\n",
       "      <td>...</td>\n",
       "      <td>62.000000</td>\n",
       "      <td>44.000000</td>\n",
       "      <td>10.000000</td>\n",
       "      <td>4.000000</td>\n",
       "      <td>1.200000e+06</td>\n",
       "      <td>8.000000e+05</td>\n",
       "      <td>0.000000</td>\n",
       "      <td>47.277426</td>\n",
       "      <td>0.000000</td>\n",
       "      <td>0.000000</td>\n",
       "    </tr>\n",
       "    <tr>\n",
       "      <th>50%</th>\n",
       "      <td>10003.500000</td>\n",
       "      <td>1.000000</td>\n",
       "      <td>1.000000</td>\n",
       "      <td>2.000000</td>\n",
       "      <td>0.000000</td>\n",
       "      <td>42.000000</td>\n",
       "      <td>9.000000</td>\n",
       "      <td>276.000000</td>\n",
       "      <td>88.000000</td>\n",
       "      <td>117.000000</td>\n",
       "      <td>...</td>\n",
       "      <td>75.000000</td>\n",
       "      <td>53.000000</td>\n",
       "      <td>20.000000</td>\n",
       "      <td>5.000000</td>\n",
       "      <td>2.500000e+06</td>\n",
       "      <td>1.300000e+06</td>\n",
       "      <td>1.000000</td>\n",
       "      <td>49.008389</td>\n",
       "      <td>1.000000</td>\n",
       "      <td>0.000000</td>\n",
       "    </tr>\n",
       "    <tr>\n",
       "      <th>75%</th>\n",
       "      <td>15141.750000</td>\n",
       "      <td>1.000000</td>\n",
       "      <td>2.000000</td>\n",
       "      <td>4.000000</td>\n",
       "      <td>1.000000</td>\n",
       "      <td>55.000000</td>\n",
       "      <td>12.000000</td>\n",
       "      <td>364.000000</td>\n",
       "      <td>124.000000</td>\n",
       "      <td>165.000000</td>\n",
       "      <td>...</td>\n",
       "      <td>88.000000</td>\n",
       "      <td>62.000000</td>\n",
       "      <td>30.000000</td>\n",
       "      <td>6.000000</td>\n",
       "      <td>3.800000e+06</td>\n",
       "      <td>1.800000e+06</td>\n",
       "      <td>2.000000</td>\n",
       "      <td>52.762313</td>\n",
       "      <td>1.000000</td>\n",
       "      <td>1.000000</td>\n",
       "    </tr>\n",
       "    <tr>\n",
       "      <th>max</th>\n",
       "      <td>22695.000000</td>\n",
       "      <td>1.000000</td>\n",
       "      <td>2.000000</td>\n",
       "      <td>8.000000</td>\n",
       "      <td>2.000000</td>\n",
       "      <td>68.000000</td>\n",
       "      <td>15.000000</td>\n",
       "      <td>450.000000</td>\n",
       "      <td>216.189583</td>\n",
       "      <td>210.000000</td>\n",
       "      <td>...</td>\n",
       "      <td>123.982587</td>\n",
       "      <td>70.000000</td>\n",
       "      <td>40.000000</td>\n",
       "      <td>7.000000</td>\n",
       "      <td>6.480210e+06</td>\n",
       "      <td>2.300000e+06</td>\n",
       "      <td>2.000000</td>\n",
       "      <td>97.632000</td>\n",
       "      <td>1.000000</td>\n",
       "      <td>1.000000</td>\n",
       "    </tr>\n",
       "  </tbody>\n",
       "</table>\n",
       "<p>8 rows × 21 columns</p>\n",
       "</div>"
      ],
      "text/plain": [
       "          people_ID       Married      Children      cases/1M     Deaths/1M  \\\n",
       "count  10714.000000  10714.000000  10714.000000  10714.000000  10714.000000   \n",
       "mean   10084.893784      0.791581      1.031921      3.285888      0.523241   \n",
       "std     7108.663645      0.406197      0.825766      2.721274      0.854303   \n",
       "min        1.000000      0.000000      0.000000      1.000000      0.000000   \n",
       "25%     2679.250000      1.000000      0.000000      2.000000      0.000000   \n",
       "50%    10003.500000      1.000000      1.000000      2.000000      0.000000   \n",
       "75%    15141.750000      1.000000      2.000000      4.000000      1.000000   \n",
       "max    22695.000000      1.000000      2.000000      8.000000      2.000000   \n",
       "\n",
       "                Age    Coma score     Diuresis     Platelets           HBB  \\\n",
       "count  10714.000000  10714.000000  9998.000000  10714.000000  10698.000000   \n",
       "mean      42.083722      9.013067   278.806261     87.904723    116.170967   \n",
       "std       15.323397      3.714970    97.985526     42.356553     55.178811   \n",
       "min       16.000000      3.000000   110.000000    -49.318573     20.000000   \n",
       "25%       29.000000      6.000000   194.000000     52.000000     68.000000   \n",
       "50%       42.000000      9.000000   276.000000     88.000000    117.000000   \n",
       "75%       55.000000     12.000000   364.000000    124.000000    165.000000   \n",
       "max       68.000000     15.000000   450.000000    216.189583    210.000000   \n",
       "\n",
       "       ...    Heart rate  HDL cholesterol  Charlson Index  Blood Glucose  \\\n",
       "count  ...  10714.000000     10679.000000    10714.000000   10714.000000   \n",
       "mean   ...     74.743515        52.632737       20.028094       5.015027   \n",
       "std    ...     15.127063        10.434293       11.828445       1.399770   \n",
       "min    ...     25.964334        35.000000        0.000000       3.000000   \n",
       "25%    ...     62.000000        44.000000       10.000000       4.000000   \n",
       "50%    ...     75.000000        53.000000       20.000000       5.000000   \n",
       "75%    ...     88.000000        62.000000       30.000000       6.000000   \n",
       "max    ...    123.982587        70.000000       40.000000       7.000000   \n",
       "\n",
       "          Insurance        salary     FT/month   Infect_Prob  Gender_Female  \\\n",
       "count  1.071400e+04  1.071400e+04  9991.000000  10714.000000   10714.000000   \n",
       "mean   2.453690e+06  1.304713e+06     1.004604     52.280680       0.506160   \n",
       "std    1.502466e+06  6.075947e+05     0.815257     10.674667       0.499985   \n",
       "min   -1.916144e+06  3.000000e+05     0.000000     29.289600       0.000000   \n",
       "25%    1.200000e+06  8.000000e+05     0.000000     47.277426       0.000000   \n",
       "50%    2.500000e+06  1.300000e+06     1.000000     49.008389       1.000000   \n",
       "75%    3.800000e+06  1.800000e+06     2.000000     52.762313       1.000000   \n",
       "max    6.480210e+06  2.300000e+06     2.000000     97.632000       1.000000   \n",
       "\n",
       "        Gender_Male  \n",
       "count  10714.000000  \n",
       "mean       0.493840  \n",
       "std        0.499985  \n",
       "min        0.000000  \n",
       "25%        0.000000  \n",
       "50%        0.000000  \n",
       "75%        1.000000  \n",
       "max        1.000000  \n",
       "\n",
       "[8 rows x 21 columns]"
      ]
     },
     "execution_count": 34,
     "metadata": {},
     "output_type": "execute_result"
    }
   ],
   "source": [
    "train.describe()"
   ]
  },
  {
   "cell_type": "code",
   "execution_count": 35,
   "metadata": {
    "colab": {},
    "colab_type": "code",
    "id": "OBxRZoQ9Yluo"
   },
   "outputs": [],
   "source": [
    "from sklearn.preprocessing import LabelEncoder"
   ]
  },
  {
   "cell_type": "code",
   "execution_count": 36,
   "metadata": {
    "colab": {},
    "colab_type": "code",
    "id": "b0kgxuB6duUw"
   },
   "outputs": [],
   "source": [
    "le = LabelEncoder()"
   ]
  },
  {
   "cell_type": "code",
   "execution_count": 37,
   "metadata": {
    "colab": {},
    "colab_type": "code",
    "id": "yqPtTMWkdwSh"
   },
   "outputs": [],
   "source": [
    "train['Occupation'] = le.fit_transform(train['Occupation'])"
   ]
  },
  {
   "cell_type": "code",
   "execution_count": 38,
   "metadata": {
    "colab": {
     "base_uri": "https://localhost:8080/",
     "height": 266
    },
    "colab_type": "code",
    "id": "Nqn5whYEeJy2",
    "outputId": "7908739a-a578-4b06-f54c-30facd26e2ba"
   },
   "outputs": [
    {
     "data": {
      "text/html": [
       "<div>\n",
       "<style scoped>\n",
       "    .dataframe tbody tr th:only-of-type {\n",
       "        vertical-align: middle;\n",
       "    }\n",
       "\n",
       "    .dataframe tbody tr th {\n",
       "        vertical-align: top;\n",
       "    }\n",
       "\n",
       "    .dataframe thead th {\n",
       "        text-align: right;\n",
       "    }\n",
       "</style>\n",
       "<table border=\"1\" class=\"dataframe\">\n",
       "  <thead>\n",
       "    <tr style=\"text-align: right;\">\n",
       "      <th></th>\n",
       "      <th>people_ID</th>\n",
       "      <th>Region</th>\n",
       "      <th>Married</th>\n",
       "      <th>Children</th>\n",
       "      <th>Occupation</th>\n",
       "      <th>Mode_transport</th>\n",
       "      <th>cases/1M</th>\n",
       "      <th>Deaths/1M</th>\n",
       "      <th>comorbidity</th>\n",
       "      <th>Age</th>\n",
       "      <th>...</th>\n",
       "      <th>Heart rate</th>\n",
       "      <th>HDL cholesterol</th>\n",
       "      <th>Charlson Index</th>\n",
       "      <th>Blood Glucose</th>\n",
       "      <th>Insurance</th>\n",
       "      <th>salary</th>\n",
       "      <th>FT/month</th>\n",
       "      <th>Infect_Prob</th>\n",
       "      <th>Gender_Female</th>\n",
       "      <th>Gender_Male</th>\n",
       "    </tr>\n",
       "  </thead>\n",
       "  <tbody>\n",
       "    <tr>\n",
       "      <th>0</th>\n",
       "      <td>1</td>\n",
       "      <td>Bhubaneshwar</td>\n",
       "      <td>1</td>\n",
       "      <td>1.0</td>\n",
       "      <td>4</td>\n",
       "      <td>Public</td>\n",
       "      <td>2</td>\n",
       "      <td>0</td>\n",
       "      <td>Hypertension</td>\n",
       "      <td>68</td>\n",
       "      <td>...</td>\n",
       "      <td>82.0</td>\n",
       "      <td>58.0</td>\n",
       "      <td>27</td>\n",
       "      <td>7</td>\n",
       "      <td>3600000.0</td>\n",
       "      <td>1300000</td>\n",
       "      <td>2.0</td>\n",
       "      <td>49.135010</td>\n",
       "      <td>1.0</td>\n",
       "      <td>0.0</td>\n",
       "    </tr>\n",
       "    <tr>\n",
       "      <th>1</th>\n",
       "      <td>2</td>\n",
       "      <td>Bhubaneshwar</td>\n",
       "      <td>1</td>\n",
       "      <td>2.0</td>\n",
       "      <td>4</td>\n",
       "      <td>Walk</td>\n",
       "      <td>2</td>\n",
       "      <td>0</td>\n",
       "      <td>Diabetes</td>\n",
       "      <td>64</td>\n",
       "      <td>...</td>\n",
       "      <td>89.0</td>\n",
       "      <td>68.0</td>\n",
       "      <td>5</td>\n",
       "      <td>6</td>\n",
       "      <td>1600000.0</td>\n",
       "      <td>400000</td>\n",
       "      <td>1.0</td>\n",
       "      <td>51.147880</td>\n",
       "      <td>1.0</td>\n",
       "      <td>0.0</td>\n",
       "    </tr>\n",
       "    <tr>\n",
       "      <th>2</th>\n",
       "      <td>3</td>\n",
       "      <td>Bhubaneshwar</td>\n",
       "      <td>0</td>\n",
       "      <td>1.0</td>\n",
       "      <td>1</td>\n",
       "      <td>Public</td>\n",
       "      <td>2</td>\n",
       "      <td>0</td>\n",
       "      <td>None</td>\n",
       "      <td>19</td>\n",
       "      <td>...</td>\n",
       "      <td>77.0</td>\n",
       "      <td>43.0</td>\n",
       "      <td>40</td>\n",
       "      <td>6</td>\n",
       "      <td>3400000.0</td>\n",
       "      <td>900000</td>\n",
       "      <td>1.0</td>\n",
       "      <td>73.224000</td>\n",
       "      <td>1.0</td>\n",
       "      <td>0.0</td>\n",
       "    </tr>\n",
       "    <tr>\n",
       "      <th>3</th>\n",
       "      <td>4</td>\n",
       "      <td>Bhubaneshwar</td>\n",
       "      <td>1</td>\n",
       "      <td>1.0</td>\n",
       "      <td>3</td>\n",
       "      <td>Car</td>\n",
       "      <td>2</td>\n",
       "      <td>0</td>\n",
       "      <td>Coronary Heart Disease</td>\n",
       "      <td>33</td>\n",
       "      <td>...</td>\n",
       "      <td>64.0</td>\n",
       "      <td>60.0</td>\n",
       "      <td>27</td>\n",
       "      <td>7</td>\n",
       "      <td>700000.0</td>\n",
       "      <td>2300000</td>\n",
       "      <td>1.0</td>\n",
       "      <td>48.779225</td>\n",
       "      <td>1.0</td>\n",
       "      <td>0.0</td>\n",
       "    </tr>\n",
       "    <tr>\n",
       "      <th>4</th>\n",
       "      <td>5</td>\n",
       "      <td>Bhubaneshwar</td>\n",
       "      <td>0</td>\n",
       "      <td>2.0</td>\n",
       "      <td>6</td>\n",
       "      <td>Car</td>\n",
       "      <td>2</td>\n",
       "      <td>0</td>\n",
       "      <td>Diabetes</td>\n",
       "      <td>23</td>\n",
       "      <td>...</td>\n",
       "      <td>71.0</td>\n",
       "      <td>64.0</td>\n",
       "      <td>32</td>\n",
       "      <td>7</td>\n",
       "      <td>3200000.0</td>\n",
       "      <td>1100000</td>\n",
       "      <td>1.0</td>\n",
       "      <td>87.868800</td>\n",
       "      <td>1.0</td>\n",
       "      <td>0.0</td>\n",
       "    </tr>\n",
       "  </tbody>\n",
       "</table>\n",
       "<p>5 rows × 27 columns</p>\n",
       "</div>"
      ],
      "text/plain": [
       "   people_ID        Region  Married  Children  Occupation Mode_transport  \\\n",
       "0          1  Bhubaneshwar        1       1.0           4         Public   \n",
       "1          2  Bhubaneshwar        1       2.0           4           Walk   \n",
       "2          3  Bhubaneshwar        0       1.0           1         Public   \n",
       "3          4  Bhubaneshwar        1       1.0           3            Car   \n",
       "4          5  Bhubaneshwar        0       2.0           6            Car   \n",
       "\n",
       "   cases/1M  Deaths/1M             comorbidity  Age  ...  Heart rate  \\\n",
       "0         2          0            Hypertension   68  ...        82.0   \n",
       "1         2          0                Diabetes   64  ...        89.0   \n",
       "2         2          0                    None   19  ...        77.0   \n",
       "3         2          0  Coronary Heart Disease   33  ...        64.0   \n",
       "4         2          0                Diabetes   23  ...        71.0   \n",
       "\n",
       "  HDL cholesterol Charlson Index  Blood Glucose  Insurance   salary  FT/month  \\\n",
       "0            58.0             27              7  3600000.0  1300000       2.0   \n",
       "1            68.0              5              6  1600000.0   400000       1.0   \n",
       "2            43.0             40              6  3400000.0   900000       1.0   \n",
       "3            60.0             27              7   700000.0  2300000       1.0   \n",
       "4            64.0             32              7  3200000.0  1100000       1.0   \n",
       "\n",
       "   Infect_Prob  Gender_Female  Gender_Male  \n",
       "0    49.135010            1.0          0.0  \n",
       "1    51.147880            1.0          0.0  \n",
       "2    73.224000            1.0          0.0  \n",
       "3    48.779225            1.0          0.0  \n",
       "4    87.868800            1.0          0.0  \n",
       "\n",
       "[5 rows x 27 columns]"
      ]
     },
     "execution_count": 38,
     "metadata": {},
     "output_type": "execute_result"
    }
   ],
   "source": [
    "train.head()"
   ]
  },
  {
   "cell_type": "code",
   "execution_count": 39,
   "metadata": {
    "colab": {
     "base_uri": "https://localhost:8080/",
     "height": 33
    },
    "colab_type": "code",
    "id": "cI8IQMdOfq-V",
    "outputId": "5eb38117-e8dc-4b72-95de-d6e5cd695c42"
   },
   "outputs": [
    {
     "data": {
      "text/plain": [
       "array(['<400', '<100', '<300', '<200'], dtype=object)"
      ]
     },
     "execution_count": 39,
     "metadata": {},
     "output_type": "execute_result"
    }
   ],
   "source": [
    "train['Pulmonary score'].unique()"
   ]
  },
  {
   "cell_type": "code",
   "execution_count": 40,
   "metadata": {
    "colab": {},
    "colab_type": "code",
    "id": "LFT-NJxueORC"
   },
   "outputs": [],
   "source": [
    "train['Pulmonary score'] = train['Pulmonary score'].replace('<400', 400)\n",
    "train['Pulmonary score'] = train['Pulmonary score'].replace('<300', 300)\n",
    "train['Pulmonary score'] = train['Pulmonary score'].replace('<200', 200)\n",
    "train['Pulmonary score'] = train['Pulmonary score'].replace('<100', 100)"
   ]
  },
  {
   "cell_type": "code",
   "execution_count": 41,
   "metadata": {
    "colab": {
     "base_uri": "https://localhost:8080/",
     "height": 585
    },
    "colab_type": "code",
    "id": "L-nJEvX7gAw7",
    "outputId": "28727c39-33aa-4357-c4df-3110f16a1900"
   },
   "outputs": [],
   "source": [
    "#train.info()"
   ]
  },
  {
   "cell_type": "code",
   "execution_count": 42,
   "metadata": {
    "colab": {},
    "colab_type": "code",
    "id": "1aZGW8VMiEx_"
   },
   "outputs": [],
   "source": [
    "try_train = train.drop(['Region', 'Mode_transport', 'cardiological pressure', 'comorbidity'], axis = 1)"
   ]
  },
  {
   "cell_type": "code",
   "execution_count": 43,
   "metadata": {
    "colab": {},
    "colab_type": "code",
    "id": "CSDvlAaggCme"
   },
   "outputs": [],
   "source": [
    "try_train = try_train.dropna()"
   ]
  },
  {
   "cell_type": "code",
   "execution_count": 44,
   "metadata": {
    "colab": {
     "base_uri": "https://localhost:8080/",
     "height": 33
    },
    "colab_type": "code",
    "id": "cjb2V1F0jcNi",
    "outputId": "8d94934d-5d5d-4020-ed51-909eac5adbc8"
   },
   "outputs": [
    {
     "data": {
      "text/plain": [
       "(9224, 23)"
      ]
     },
     "execution_count": 44,
     "metadata": {},
     "output_type": "execute_result"
    }
   ],
   "source": [
    "try_train.shape"
   ]
  },
  {
   "cell_type": "code",
   "execution_count": 45,
   "metadata": {
    "colab": {},
    "colab_type": "code",
    "id": "MRcrSYK7jeSV"
   },
   "outputs": [],
   "source": [
    "x = try_train.drop(['Infect_Prob'], axis =1).values"
   ]
  },
  {
   "cell_type": "code",
   "execution_count": 46,
   "metadata": {
    "colab": {},
    "colab_type": "code",
    "id": "TvVst_qqjwPA"
   },
   "outputs": [],
   "source": [
    "y = try_train['Infect_Prob'].values"
   ]
  },
  {
   "cell_type": "code",
   "execution_count": 47,
   "metadata": {
    "colab": {},
    "colab_type": "code",
    "id": "CH1z_fbGkSkT"
   },
   "outputs": [],
   "source": [
    "x_train,x_test,y_train,y_test = train_test_split(x,y,test_size=0.25,random_state=10)"
   ]
  },
  {
   "cell_type": "code",
   "execution_count": 48,
   "metadata": {
    "colab": {},
    "colab_type": "code",
    "id": "pgxsGsuBkXPc"
   },
   "outputs": [],
   "source": [
    "reg = LinearRegression()"
   ]
  },
  {
   "cell_type": "code",
   "execution_count": 49,
   "metadata": {
    "colab": {
     "base_uri": "https://localhost:8080/",
     "height": 33
    },
    "colab_type": "code",
    "id": "rpf0qh5PkaDs",
    "outputId": "bdd7984d-9349-4043-da5a-494a708b5b47"
   },
   "outputs": [
    {
     "data": {
      "text/plain": [
       "LinearRegression(copy_X=True, fit_intercept=True, n_jobs=None, normalize=False)"
      ]
     },
     "execution_count": 49,
     "metadata": {},
     "output_type": "execute_result"
    }
   ],
   "source": [
    "reg.fit(x_train, y_train)"
   ]
  },
  {
   "cell_type": "code",
   "execution_count": 50,
   "metadata": {
    "colab": {},
    "colab_type": "code",
    "id": "C1mMS709kdGp"
   },
   "outputs": [],
   "source": [
    "y_pred = reg.predict(x_test)"
   ]
  },
  {
   "cell_type": "code",
   "execution_count": 51,
   "metadata": {},
   "outputs": [
    {
     "data": {
      "text/plain": [
       "89.3946521464417"
      ]
     },
     "execution_count": 51,
     "metadata": {},
     "output_type": "execute_result"
    }
   ],
   "source": [
    "mean_squared_error(y_test, y_pred)"
   ]
  },
  {
   "cell_type": "code",
   "execution_count": 52,
   "metadata": {},
   "outputs": [
    {
     "data": {
      "text/plain": [
       "0.2816332311343538"
      ]
     },
     "execution_count": 52,
     "metadata": {},
     "output_type": "execute_result"
    }
   ],
   "source": [
    "from sklearn.metrics import r2_score\n",
    "r2_score(y_test, y_pred)"
   ]
  },
  {
   "cell_type": "code",
   "execution_count": null,
   "metadata": {},
   "outputs": [],
   "source": []
  }
 ],
 "metadata": {
  "colab": {
   "collapsed_sections": [],
   "name": "covid.ipynb",
   "provenance": [],
   "toc_visible": true
  },
  "kernelspec": {
   "display_name": "Python 3",
   "language": "python",
   "name": "python3"
  },
  "language_info": {
   "codemirror_mode": {
    "name": "ipython",
    "version": 3
   },
   "file_extension": ".py",
   "mimetype": "text/x-python",
   "name": "python",
   "nbconvert_exporter": "python",
   "pygments_lexer": "ipython3",
   "version": "3.7.6"
  }
 },
 "nbformat": 4,
 "nbformat_minor": 1
}
